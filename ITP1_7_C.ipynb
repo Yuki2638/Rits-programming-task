{
 "cells": [
  {
   "cell_type": "code",
   "execution_count": 1,
   "metadata": {},
   "outputs": [
    {
     "name": "stdout",
     "output_type": "stream",
     "text": [
      "4 5\n",
      "1 1 3 4 5\n",
      "2 2 2 4 5\n",
      "3 3 0 1 1\n",
      "2 3 4 4 6\n",
      "1 1 3 4 5 14\n",
      "2 2 2 4 5 15\n",
      "3 3 0 1 1 8\n",
      "2 3 4 4 6 19\n",
      "8 9 9 13 17 56\n"
     ]
    }
   ],
   "source": [
    "r,c = map(int,input().split())\n",
    "SP = [list(map(int,input().split(\" \"))) for i in range(r)]\n",
    "SUM = 0\n",
    "for i in range(r):\n",
    "    for j in range(c):\n",
    "        SUM += SP[i][j]\n",
    "    SP[i].append(SUM)\n",
    "    SUM = 0\n",
    "\n",
    "SP.append([])\n",
    "for i in range(c+1):\n",
    "    for j in range(r):\n",
    "        SUM += SP[j][i]\n",
    "    SP[r].append(SUM)\n",
    "    SUM = 0\n",
    "\n",
    "for i in SP:\n",
    "    print(*i) "
   ]
  },
  {
   "cell_type": "code",
   "execution_count": null,
   "metadata": {},
   "outputs": [],
   "source": []
  }
 ],
 "metadata": {
  "kernelspec": {
   "display_name": "Python 3",
   "language": "python",
   "name": "python3"
  },
  "language_info": {
   "codemirror_mode": {
    "name": "ipython",
    "version": 3
   },
   "file_extension": ".py",
   "mimetype": "text/x-python",
   "name": "python",
   "nbconvert_exporter": "python",
   "pygments_lexer": "ipython3",
   "version": "3.7.4"
  }
 },
 "nbformat": 4,
 "nbformat_minor": 2
}
