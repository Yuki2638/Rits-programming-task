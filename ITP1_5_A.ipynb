{
 "cells": [
  {
   "cell_type": "code",
   "execution_count": 1,
   "metadata": {},
   "outputs": [
    {
     "name": "stdout",
     "output_type": "stream",
     "text": [
      "3 4\n",
      "####\n",
      "####\n",
      "####\n",
      "\n",
      "5 6\n",
      "######\n",
      "######\n",
      "######\n",
      "######\n",
      "######\n",
      "\n",
      "2 2 \n",
      "##\n",
      "##\n",
      "\n",
      "0 0\n"
     ]
    }
   ],
   "source": [
    "n = 1\n",
    "while n != 0:\n",
    "    H,W = map(int,input().split())\n",
    "    if H == 0 and W == 0:\n",
    "        break\n",
    "    for i in range(H):\n",
    "        print(W*\"#\")\n",
    "    print()"
   ]
  },
  {
   "cell_type": "code",
   "execution_count": null,
   "metadata": {},
   "outputs": [],
   "source": []
  }
 ],
 "metadata": {
  "kernelspec": {
   "display_name": "Python 3",
   "language": "python",
   "name": "python3"
  },
  "language_info": {
   "codemirror_mode": {
    "name": "ipython",
    "version": 3
   },
   "file_extension": ".py",
   "mimetype": "text/x-python",
   "name": "python",
   "nbconvert_exporter": "python",
   "pygments_lexer": "ipython3",
   "version": "3.7.4"
  }
 },
 "nbformat": 4,
 "nbformat_minor": 2
}
