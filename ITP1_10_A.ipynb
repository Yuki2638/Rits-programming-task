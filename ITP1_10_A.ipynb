{
 "cells": [
  {
   "cell_type": "code",
   "execution_count": 9,
   "metadata": {},
   "outputs": [
    {
     "name": "stdout",
     "output_type": "stream",
     "text": [
      "0.01 -0.1134 -3.1414 55.7\n",
      "55.90229817744526\n"
     ]
    }
   ],
   "source": [
    "import math\n",
    "x1,y1,x2,y2 = map(float,input().split())\n",
    "x = x2-x1\n",
    "y = y2-y1\n",
    "#ans = format(math.sqrt(x**2+y**2), '.4f')\n",
    "ans = math.sqrt(x**2+y**2)\n",
    "print(ans)"
   ]
  },
  {
   "cell_type": "code",
   "execution_count": null,
   "metadata": {},
   "outputs": [],
   "source": []
  }
 ],
 "metadata": {
  "kernelspec": {
   "display_name": "Python 3",
   "language": "python",
   "name": "python3"
  },
  "language_info": {
   "codemirror_mode": {
    "name": "ipython",
    "version": 3
   },
   "file_extension": ".py",
   "mimetype": "text/x-python",
   "name": "python",
   "nbconvert_exporter": "python",
   "pygments_lexer": "ipython3",
   "version": "3.7.4"
  }
 },
 "nbformat": 4,
 "nbformat_minor": 2
}
