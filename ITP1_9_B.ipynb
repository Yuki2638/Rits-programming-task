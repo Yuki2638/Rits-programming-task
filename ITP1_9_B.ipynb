{
 "cells": [
  {
   "cell_type": "code",
   "execution_count": 12,
   "metadata": {},
   "outputs": [
    {
     "name": "stdout",
     "output_type": "stream",
     "text": [
      "aabc\n",
      "3\n",
      "1\n",
      "2\n",
      "1\n",
      "vwxyz\n",
      "2\n",
      "3\n",
      "4\n",
      "-\n",
      "aabc\n",
      "xyzvw\n"
     ]
    }
   ],
   "source": [
    "St = []\n",
    "while True:\n",
    "    word = input()\n",
    "    if word == \"-\":\n",
    "        break\n",
    "    m = int(input())\n",
    "    for i in range(m):\n",
    "        h = int(input())\n",
    "        word_first, word_last = word[:h], word[h:]\n",
    "        word = word_last + word_first\n",
    "    \n",
    "    St.append(word)\n",
    "\n",
    "for i in St:\n",
    "    print(i)"
   ]
  },
  {
   "cell_type": "code",
   "execution_count": null,
   "metadata": {},
   "outputs": [],
   "source": []
  }
 ],
 "metadata": {
  "kernelspec": {
   "display_name": "Python 3",
   "language": "python",
   "name": "python3"
  },
  "language_info": {
   "codemirror_mode": {
    "name": "ipython",
    "version": 3
   },
   "file_extension": ".py",
   "mimetype": "text/x-python",
   "name": "python",
   "nbconvert_exporter": "python",
   "pygments_lexer": "ipython3",
   "version": "3.7.4"
  }
 },
 "nbformat": 4,
 "nbformat_minor": 2
}
