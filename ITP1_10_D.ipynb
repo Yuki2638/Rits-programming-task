{
 "cells": [
  {
   "cell_type": "code",
   "execution_count": 17,
   "metadata": {},
   "outputs": [
    {
     "name": "stdout",
     "output_type": "stream",
     "text": [
      "3\n",
      "1 2 3\n",
      "2 0 4\n",
      "4\n",
      "2.449489742783178\n",
      "2.154434690031884\n",
      "2\n"
     ]
    }
   ],
   "source": [
    "n = int(input())\n",
    "x = list(map(int,input().split()))\n",
    "y = list(map(int,input().split()))\n",
    "p1,p2,p3 = 0,0,0\n",
    "pin = []\n",
    "for i in range(n):\n",
    "    p1 += abs(x[i]-y[i])\n",
    "    p2 += abs(x[i]-y[i])**2\n",
    "    p3 += abs(x[i]-y[i])**3\n",
    "    pin.append(abs(x[i]-y[i]))\n",
    "\n",
    "p2 = p2**(1/2)\n",
    "p3 = p3**(1/3)\n",
    "pin = max(pin)\n",
    "\n",
    "print(p1,p2,p3,pin,sep=\"\\n\")"
   ]
  },
  {
   "cell_type": "code",
   "execution_count": null,
   "metadata": {},
   "outputs": [],
   "source": []
  }
 ],
 "metadata": {
  "kernelspec": {
   "display_name": "Python 3",
   "language": "python",
   "name": "python3"
  },
  "language_info": {
   "codemirror_mode": {
    "name": "ipython",
    "version": 3
   },
   "file_extension": ".py",
   "mimetype": "text/x-python",
   "name": "python",
   "nbconvert_exporter": "python",
   "pygments_lexer": "ipython3",
   "version": "3.7.4"
  }
 },
 "nbformat": 4,
 "nbformat_minor": 2
}
