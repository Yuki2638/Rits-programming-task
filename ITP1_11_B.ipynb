{
 "cells": [
  {
   "cell_type": "code",
   "execution_count": 5,
   "metadata": {},
   "outputs": [
    {
     "name": "stdout",
     "output_type": "stream",
     "text": [
      "1 2 3 4 5 6\n",
      "3\n",
      "6 5\n",
      "3\n",
      "1 3\n",
      "5\n",
      "3 2\n",
      "6\n"
     ]
    }
   ],
   "source": [
    "dice = list(map(int,input().split()))\n",
    "q = int(input())\n",
    "\n",
    "U = dice[0]; D = dice[5]; W = dice[3]; E = dice[2]; N = dice[4]; S = dice[1]; temp = 0\n",
    "\n",
    "def turnE():\n",
    "    global U,D,W,E,N,S,temp\n",
    "    temp = E; E = U; U = W; W = D; D = temp\n",
    "def turnW():\n",
    "    global U,D,W,E,N,S,temp\n",
    "    temp = W; W = U; U = E; E = D; D = temp\n",
    "def turnS():\n",
    "    global U,D,W,E,N,S,temp\n",
    "    temp = S; S = U; U = N; N = D; D = temp\n",
    "def turnN():\n",
    "    global U,D,W,E,N,S,temp\n",
    "    temp = N; N = U; U = S; S = D; D = temp\n",
    "def turnR():\n",
    "    global U,D,W,E,N,S,temp\n",
    "    temp = E; E = N; N = W; W = S; S = temp\n",
    "\n",
    "for i in range(q):\n",
    "    u,s = map(int,input().split())\n",
    "    if u == dice[1]:\n",
    "        turnN()\n",
    "    elif u == dice[2]:\n",
    "        turnW()\n",
    "    elif u == dice[3]:\n",
    "        turnE()\n",
    "    elif u == dice[4]:\n",
    "        turnS()\n",
    "    elif u == dice[5]:\n",
    "        turnN()\n",
    "        turnN()\n",
    "\n",
    "    for j in range(4):\n",
    "        if S == s:\n",
    "            print(E)\n",
    "            U = dice[0]; D = dice[5]; W = dice[3]; E = dice[2]; N = dice[4]; S = dice[1]; temp = 0\n",
    "            break\n",
    "        turnR()"
   ]
  }
 ],
 "metadata": {
  "kernelspec": {
   "display_name": "Python 3",
   "language": "python",
   "name": "python3"
  },
  "language_info": {
   "codemirror_mode": {
    "name": "ipython",
    "version": 3
   },
   "file_extension": ".py",
   "mimetype": "text/x-python",
   "name": "python",
   "nbconvert_exporter": "python",
   "pygments_lexer": "ipython3",
   "version": "3.7.4"
  }
 },
 "nbformat": 4,
 "nbformat_minor": 2
}
