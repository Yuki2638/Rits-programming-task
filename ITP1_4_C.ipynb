{
 "cells": [
  {
   "cell_type": "code",
   "execution_count": 2,
   "metadata": {},
   "outputs": [
    {
     "name": "stdout",
     "output_type": "stream",
     "text": [
      "1 + 2\n",
      "3\n",
      "56 - 18\n",
      "38\n",
      "13 * 2\n",
      "26\n",
      "100 / 10\n",
      "10\n",
      "27 + 81\n",
      "108\n",
      "0 ? 0\n"
     ]
    }
   ],
   "source": [
    "import math\n",
    "op = 0\n",
    "while op != \"?\":\n",
    "    a,op, b = input().split()\n",
    "    a = int(a)\n",
    "    b = int(b)\n",
    "\n",
    "    if op == \"+\":\n",
    "        ans = a+b\n",
    "        print(ans)\n",
    "    elif op == \"-\":\n",
    "        ans = a-b\n",
    "        print(ans)\n",
    "    elif op == \"*\":\n",
    "        ans = a*b\n",
    "        print(ans)\n",
    "    elif op == \"/\":\n",
    "        ans = math.floor(a/b)\n",
    "        print(ans)\n",
    "    else:\n",
    "        break"
   ]
  },
  {
   "cell_type": "code",
   "execution_count": null,
   "metadata": {},
   "outputs": [],
   "source": []
  }
 ],
 "metadata": {
  "kernelspec": {
   "display_name": "Python 3",
   "language": "python",
   "name": "python3"
  },
  "language_info": {
   "codemirror_mode": {
    "name": "ipython",
    "version": 3
   },
   "file_extension": ".py",
   "mimetype": "text/x-python",
   "name": "python",
   "nbconvert_exporter": "python",
   "pygments_lexer": "ipython3",
   "version": "3.7.4"
  }
 },
 "nbformat": 4,
 "nbformat_minor": 2
}
