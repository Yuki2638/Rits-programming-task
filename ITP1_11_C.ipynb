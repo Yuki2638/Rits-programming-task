{
 "cells": [
  {
   "cell_type": "code",
   "execution_count": 9,
   "metadata": {},
   "outputs": [
    {
     "name": "stdout",
     "output_type": "stream",
     "text": [
      "1 2 3 4 5 6\n",
      "6 5 4 3 2 1\n",
      "No\n"
     ]
    }
   ],
   "source": [
    "dice = list(map(int,input().split()))\n",
    "dice2 = list(map(int,input().split()))\n",
    "\n",
    "U = dice[0]; D = dice[5]; W = dice[3]; E = dice[2]; N = dice[4]; S = dice[1]; temp = 0\n",
    "\n",
    "def turnE():\n",
    "    global U,D,W,E,N,S,temp\n",
    "    temp = E; E = U; U = W; W = D; D = temp\n",
    "def turnW():\n",
    "    global U,D,W,E,N,S,temp\n",
    "    temp = W; W = U; U = E; E = D; D = temp\n",
    "def turnS():\n",
    "    global U,D,W,E,N,S,temp\n",
    "    temp = S; S = U; U = N; N = D; D = temp\n",
    "def turnN():\n",
    "    global U,D,W,E,N,S,temp\n",
    "    temp = N; N = U; U = S; S = D; D = temp\n",
    "def turnR():\n",
    "    global U,D,W,E,N,S,temp\n",
    "    temp = E; E = N; N = W; W = S; S = temp\n",
    "\n",
    "if dice2[0] == dice[1]:\n",
    "    turnN()\n",
    "elif dice2[0] == dice[2]:\n",
    "    turnW()\n",
    "elif dice2[0] == dice[3]:\n",
    "    turnE()\n",
    "elif dice2[0] == dice[4]:\n",
    "    turnS()\n",
    "elif dice2[0] == dice[5]:\n",
    "    turnN()\n",
    "    turnN()\n",
    "\n",
    "for i in range(4):\n",
    "    if U == dice2[0] and D == dice2[5] and  W == dice2[3] and E == dice2[2] and  N == dice2[4] and S == dice2[1]:\n",
    "        print(\"Yes\")\n",
    "        break\n",
    "    turnR()\n",
    "    if i == 3:\n",
    "        print(\"No\")"
   ]
  },
  {
   "cell_type": "code",
   "execution_count": null,
   "metadata": {},
   "outputs": [],
   "source": []
  }
 ],
 "metadata": {
  "kernelspec": {
   "display_name": "Python 3",
   "language": "python",
   "name": "python3"
  },
  "language_info": {
   "codemirror_mode": {
    "name": "ipython",
    "version": 3
   },
   "file_extension": ".py",
   "mimetype": "text/x-python",
   "name": "python",
   "nbconvert_exporter": "python",
   "pygments_lexer": "ipython3",
   "version": "3.7.4"
  }
 },
 "nbformat": 4,
 "nbformat_minor": 2
}
