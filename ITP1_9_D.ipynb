{
 "cells": [
  {
   "cell_type": "code",
   "execution_count": 12,
   "metadata": {},
   "outputs": [
    {
     "name": "stdout",
     "output_type": "stream",
     "text": [
      "abcde\n",
      "3\n",
      "replace 1 3 xyz\n",
      "reverse 0 2\n",
      "print 1 4\n",
      "xaze\n"
     ]
    }
   ],
   "source": [
    "word = input()\n",
    "q = int(input())\n",
    "\n",
    "for i in range(q):\n",
    "    order = list(map(str,input().split()))\n",
    "    first,last = int(order[1]),int(order[2])+1\n",
    "    if order[0] == \"replace\":\n",
    "        word = list(word)\n",
    "        word[first:last] = order[3]\n",
    "        word = \"\".join(word)\n",
    "\n",
    "    elif order[0] == \"print\":\n",
    "        print(word[first:last])\n",
    "        \n",
    "    else:\n",
    "        new_word = word[first:last][::-1]\n",
    "        word = word.replace(word[first:last],new_word)"
   ]
  },
  {
   "cell_type": "code",
   "execution_count": null,
   "metadata": {},
   "outputs": [],
   "source": []
  }
 ],
 "metadata": {
  "kernelspec": {
   "display_name": "Python 3",
   "language": "python",
   "name": "python3"
  },
  "language_info": {
   "codemirror_mode": {
    "name": "ipython",
    "version": 3
   },
   "file_extension": ".py",
   "mimetype": "text/x-python",
   "name": "python",
   "nbconvert_exporter": "python",
   "pygments_lexer": "ipython3",
   "version": "3.7.4"
  }
 },
 "nbformat": 4,
 "nbformat_minor": 2
}
