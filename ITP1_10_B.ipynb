{
 "cells": [
  {
   "cell_type": "code",
   "execution_count": 7,
   "metadata": {},
   "outputs": [
    {
     "name": "stdout",
     "output_type": "stream",
     "text": [
      "25 76 45\n",
      "671.7514421272202\n",
      "161.94254861335486\n",
      "53.74011537017761\n"
     ]
    }
   ],
   "source": [
    "import math\n",
    "a,b,C = map(float,input().split())\n",
    "c = math.sqrt(a**2 + b**2 -2*a*b*math.cos(math.radians(C)))\n",
    "\n",
    "S = 1/2*a*b*math.sin(math.radians(C))\n",
    "L = a + b + c\n",
    "h = b * math.sin(math.radians(C))\n",
    "\n",
    "print(S,L,h,sep=\"\\n\")"
   ]
  },
  {
   "cell_type": "code",
   "execution_count": null,
   "metadata": {},
   "outputs": [],
   "source": []
  }
 ],
 "metadata": {
  "kernelspec": {
   "display_name": "Python 3",
   "language": "python",
   "name": "python3"
  },
  "language_info": {
   "codemirror_mode": {
    "name": "ipython",
    "version": 3
   },
   "file_extension": ".py",
   "mimetype": "text/x-python",
   "name": "python",
   "nbconvert_exporter": "python",
   "pygments_lexer": "ipython3",
   "version": "3.7.4"
  }
 },
 "nbformat": 4,
 "nbformat_minor": 2
}
