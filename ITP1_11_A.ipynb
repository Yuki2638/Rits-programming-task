{
 "cells": [
  {
   "cell_type": "code",
   "execution_count": 11,
   "metadata": {},
   "outputs": [
    {
     "name": "stdout",
     "output_type": "stream",
     "text": [
      "1 2 4 8 16 32\n",
      "EESWN\n",
      "32\n"
     ]
    }
   ],
   "source": [
    "dice = list(map(int,input().split()))\n",
    "order = list(input())\n",
    "\n",
    "U = dice[0]\n",
    "D = dice[5]\n",
    "W = dice[3]\n",
    "E = dice[2]\n",
    "N = dice[4]\n",
    "S = dice[1]\n",
    "temp = 0\n",
    "\n",
    "for i in range(len(order)):\n",
    "    if order[i] == \"E\":\n",
    "        temp = E\n",
    "        E = U\n",
    "        U = W\n",
    "        W = D\n",
    "        D = temp\n",
    "    elif order[i] == \"W\":\n",
    "        temp = W\n",
    "        W = U\n",
    "        U = E\n",
    "        E = D\n",
    "        D = temp\n",
    "    elif order[i] == \"S\":\n",
    "        temp = S\n",
    "        S = U\n",
    "        U = N\n",
    "        N = D\n",
    "        D = temp\n",
    "    elif order[i] == \"N\":\n",
    "        temp = N\n",
    "        N = U\n",
    "        U = S\n",
    "        S = D\n",
    "        D = temp\n",
    "\n",
    "print(U) "
   ]
  }
 ],
 "metadata": {
  "kernelspec": {
   "display_name": "Python 3",
   "language": "python",
   "name": "python3"
  },
  "language_info": {
   "codemirror_mode": {
    "name": "ipython",
    "version": 3
   },
   "file_extension": ".py",
   "mimetype": "text/x-python",
   "name": "python",
   "nbconvert_exporter": "python",
   "pygments_lexer": "ipython3",
   "version": "3.7.4"
  }
 },
 "nbformat": 4,
 "nbformat_minor": 2
}
