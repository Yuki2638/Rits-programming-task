{
 "cells": [
  {
   "cell_type": "code",
   "execution_count": 1,
   "metadata": {},
   "outputs": [
    {
     "name": "stdout",
     "output_type": "stream",
     "text": [
      "40 42 -1\n",
      "20 30 -1\n",
      "0 2 -1\n",
      "-1 -1 -1\n",
      "A\n",
      "C\n",
      "F\n"
     ]
    }
   ],
   "source": [
    "d = 0\n",
    "Grading = []\n",
    "while d != 1:\n",
    "    m,f,r = map(int,input().split())\n",
    "    if m == -1 and f == -1 and r == -1:\n",
    "        break\n",
    "    tp = m + f\n",
    "    if m == -1 or f == -1:\n",
    "        Grading += \"F\"\n",
    "    elif 80 <= tp:\n",
    "        Grading += \"A\"\n",
    "    elif 65 <= tp < 80:\n",
    "        Grading += \"B\"\n",
    "    elif 50 <= tp < 65:\n",
    "        Grading += \"C\"\n",
    "    elif 30 <= tp < 50:\n",
    "        if  50 <= r:\n",
    "            Grading += \"C\"\n",
    "        else:\n",
    "            Grading += \"D\"\n",
    "    elif tp <30:\n",
    "        Grading += \"F\"\n",
    "\n",
    "for i in Grading:\n",
    "    print(i)"
   ]
  },
  {
   "cell_type": "code",
   "execution_count": null,
   "metadata": {},
   "outputs": [],
   "source": []
  }
 ],
 "metadata": {
  "kernelspec": {
   "display_name": "Python 3",
   "language": "python",
   "name": "python3"
  },
  "language_info": {
   "codemirror_mode": {
    "name": "ipython",
    "version": 3
   },
   "file_extension": ".py",
   "mimetype": "text/x-python",
   "name": "python",
   "nbconvert_exporter": "python",
   "pygments_lexer": "ipython3",
   "version": "3.7.4"
  }
 },
 "nbformat": 4,
 "nbformat_minor": 2
}
