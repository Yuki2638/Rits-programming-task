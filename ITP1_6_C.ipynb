{
 "cells": [
  {
   "cell_type": "code",
   "execution_count": 5,
   "metadata": {},
   "outputs": [
    {
     "name": "stdout",
     "output_type": "stream",
     "text": [
      "3\n",
      "1 1 3 8\n",
      "3 2 2 7\n",
      "4 3 8 1\n",
      " 0 0 8 0 0 0 0 0 0 0\n",
      " 0 0 0 0 0 0 0 0 0 0\n",
      " 0 0 0 0 0 0 0 0 0 0\n",
      "####################\n",
      " 0 0 0 0 0 0 0 0 0 0\n",
      " 0 0 0 0 0 0 0 0 0 0\n",
      " 0 0 0 0 0 0 0 0 0 0\n",
      "####################\n",
      " 0 0 0 0 0 0 0 0 0 0\n",
      " 0 7 0 0 0 0 0 0 0 0\n",
      " 0 0 0 0 0 0 0 0 0 0\n",
      "####################\n",
      " 0 0 0 0 0 0 0 0 0 0\n",
      " 0 0 0 0 0 0 0 0 0 0\n",
      " 0 0 0 0 0 0 0 1 0 0\n"
     ]
    }
   ],
   "source": [
    "House = [[[0 for i in range(10)] for j in range(3)] for k in range(4)]\n",
    "\n",
    "n = int(input())\n",
    "for i in range(n):\n",
    "    b,f,r,v = map(int,input().split())\n",
    "    if b == 1:\n",
    "        House[0][f-1][r-1] +=  v\n",
    "    elif b == 2:\n",
    "        House[1][f-1][r-1] +=  v\n",
    "    elif b == 3:\n",
    "        House[2][f-1][r-1] +=  v\n",
    "    else:\n",
    "        House[3][f-1][r-1] +=  v\n",
    "\n",
    "for i in range(4):\n",
    "    for j in House[i][0:]:\n",
    "        print(\"\",*j)\n",
    "    if i == 3:\n",
    "        break\n",
    "    print(\"#\"*20)"
   ]
  },
  {
   "cell_type": "code",
   "execution_count": null,
   "metadata": {},
   "outputs": [],
   "source": []
  }
 ],
 "metadata": {
  "kernelspec": {
   "display_name": "Python 3",
   "language": "python",
   "name": "python3"
  },
  "language_info": {
   "codemirror_mode": {
    "name": "ipython",
    "version": 3
   },
   "file_extension": ".py",
   "mimetype": "text/x-python",
   "name": "python",
   "nbconvert_exporter": "python",
   "pygments_lexer": "ipython3",
   "version": "3.7.4"
  }
 },
 "nbformat": 4,
 "nbformat_minor": 2
}
