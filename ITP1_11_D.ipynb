{
 "cells": [
  {
   "cell_type": "code",
   "execution_count": 7,
   "metadata": {},
   "outputs": [
    {
     "name": "stdout",
     "output_type": "stream",
     "text": [
      "3\n",
      "1 2 3 4 5 6\n",
      "6 2 4 3 5 1\n",
      "6 5 4 3 2 1\n",
      "No\n"
     ]
    }
   ],
   "source": [
    "n = int(input())\n",
    "Dice = [list(map(int,input().split())) for i in range(n)]\n",
    "\n",
    "def turnE():\n",
    "    global U,D,W,E,N,S,temp\n",
    "    temp = E; E = U; U = W; W = D; D = temp\n",
    "def turnW():\n",
    "    global U,D,W,E,N,S,temp\n",
    "    temp = W; W = U; U = E; E = D; D = temp\n",
    "def turnS():\n",
    "    global U,D,W,E,N,S,temp\n",
    "    temp = S; S = U; U = N; N = D; D = temp\n",
    "def turnN():\n",
    "    global U,D,W,E,N,S,temp\n",
    "    temp = N; N = U; U = S; S = D; D = temp\n",
    "def turnR():\n",
    "    global U,D,W,E,N,S,temp\n",
    "    temp = E; E = N; N = W; W = S; S = temp\n",
    "\n",
    "flag = False\n",
    "for i in range(n):\n",
    "    dice = Dice[i]\n",
    "    U = dice[0]; D = dice[5]; W = dice[3]; E = dice[2]; N = dice[4]; S = dice[1]; temp = 0\n",
    "    for j in range(i+1,n):\n",
    "        dice2 = Dice[j]\n",
    "        if dice2[0] == dice[1]:\n",
    "            turnN()\n",
    "        elif dice2[0] == dice[2]:\n",
    "            turnW()\n",
    "        elif dice2[0] == dice[3]:\n",
    "            turnE()\n",
    "        elif dice2[0] == dice[4]:\n",
    "            turnS()\n",
    "        elif dice2[0] == dice[5]:\n",
    "            turnN()\n",
    "            turnN()\n",
    "        for k in range(4):\n",
    "            if U == dice2[0] and D == dice2[5] and  W == dice2[3] and E == dice2[2] and  N == dice2[4] and S == dice2[1]:\n",
    "                flag = True\n",
    "                print(\"No\")\n",
    "                break\n",
    "            turnR()\n",
    "        if flag:\n",
    "            break\n",
    "            \n",
    "    if flag:\n",
    "        break\n",
    "            \n",
    "    if i == n-1:\n",
    "        print(\"Yes\")"
   ]
  },
  {
   "cell_type": "code",
   "execution_count": null,
   "metadata": {},
   "outputs": [],
   "source": []
  }
 ],
 "metadata": {
  "kernelspec": {
   "display_name": "Python 3",
   "language": "python",
   "name": "python3"
  },
  "language_info": {
   "codemirror_mode": {
    "name": "ipython",
    "version": 3
   },
   "file_extension": ".py",
   "mimetype": "text/x-python",
   "name": "python",
   "nbconvert_exporter": "python",
   "pygments_lexer": "ipython3",
   "version": "3.7.4"
  }
 },
 "nbformat": 4,
 "nbformat_minor": 2
}
