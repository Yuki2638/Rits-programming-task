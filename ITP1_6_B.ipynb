{
 "cells": [
  {
   "cell_type": "code",
   "execution_count": null,
   "metadata": {},
   "outputs": [],
   "source": [
    "n = int(input())\n",
    "S,H,C,D= [0]*14,[0]*14,[0]*14,[0]*14\n",
    "for i in range(n):\n",
    "    des,num = map(str,input().split())\n",
    "    num = int(num)\n",
    "    if des == \"S\":\n",
    "        S[num] = num\n",
    "    elif des == \"H\":\n",
    "        H[num] = num\n",
    "    elif des == \"C\":\n",
    "        C[num] = num\n",
    "    else:\n",
    "        D[num] = num\n",
    "\n",
    "for i in range(4):\n",
    "    for j in range(1,14):\n",
    "        if i==0 and S[j] == 0:\n",
    "            print(\"S\",j,sep = \" \")\n",
    "        elif i == 1 and H[j] == 0:\n",
    "            print(\"H\",j,sep = \" \")\n",
    "        elif i == 2 and C[j] == 0:\n",
    "            print(\"C\",j,sep = \" \")\n",
    "        elif i ==3 and D[j] == 0:\n",
    "            print(\"D\",j,sep = \" \")"
   ]
  },
  {
   "cell_type": "code",
   "execution_count": null,
   "metadata": {},
   "outputs": [],
   "source": []
  }
 ],
 "metadata": {
  "kernelspec": {
   "display_name": "Python 3",
   "language": "python",
   "name": "python3"
  },
  "language_info": {
   "codemirror_mode": {
    "name": "ipython",
    "version": 3
   },
   "file_extension": ".py",
   "mimetype": "text/x-python",
   "name": "python",
   "nbconvert_exporter": "python",
   "pygments_lexer": "ipython3",
   "version": "3.7.4"
  }
 },
 "nbformat": 4,
 "nbformat_minor": 2
}
