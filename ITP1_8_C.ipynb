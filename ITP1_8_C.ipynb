{
 "cells": [
  {
   "cell_type": "code",
   "execution_count": null,
   "metadata": {},
   "outputs": [],
   "source": [
    "alp = list(chr(ord(\"a\")+i) for i in range(26))\n",
    "count = [0 for j in range(26)]\n",
    "while True:\n",
    "    try:\n",
    "        word = list(input().lower())\n",
    "    except EOFError:\n",
    "        break\n",
    "    for i in range(26):\n",
    "        count[i] += word.count(alp[i])\n",
    "\n",
    "for i in range(26):\n",
    "    print(alp[i],\":\",count[i])"
   ]
  },
  {
   "cell_type": "code",
   "execution_count": null,
   "metadata": {},
   "outputs": [],
   "source": []
  }
 ],
 "metadata": {
  "kernelspec": {
   "display_name": "Python 3",
   "language": "python",
   "name": "python3"
  },
  "language_info": {
   "codemirror_mode": {
    "name": "ipython",
    "version": 3
   },
   "file_extension": ".py",
   "mimetype": "text/x-python",
   "name": "python",
   "nbconvert_exporter": "python",
   "pygments_lexer": "ipython3",
   "version": "3.7.4"
  }
 },
 "nbformat": 4,
 "nbformat_minor": 2
}
