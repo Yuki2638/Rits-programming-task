{
 "cells": [
  {
   "cell_type": "code",
   "execution_count": 1,
   "metadata": {},
   "outputs": [
    {
     "name": "stdout",
     "output_type": "stream",
     "text": [
      "3\n",
      "Case 1: 3\n",
      "5\n",
      "Case 2: 5\n",
      "11\n",
      "Case 3: 11\n",
      "7\n",
      "Case 4: 7\n",
      "8\n",
      "Case 5: 8\n",
      "19\n",
      "Case 6: 19\n",
      "0\n"
     ]
    }
   ],
   "source": [
    "count = 1\n",
    "while True:\n",
    "    num = int(input())\n",
    "    if num == 0:\n",
    "        break \n",
    "    print(\"Case %d: %d\" %(count,num))\n",
    "    count +=1"
   ]
  },
  {
   "cell_type": "code",
   "execution_count": null,
   "metadata": {},
   "outputs": [],
   "source": []
  }
 ],
 "metadata": {
  "kernelspec": {
   "display_name": "Python 3",
   "language": "python",
   "name": "python3"
  },
  "language_info": {
   "codemirror_mode": {
    "name": "ipython",
    "version": 3
   },
   "file_extension": ".py",
   "mimetype": "text/x-python",
   "name": "python",
   "nbconvert_exporter": "python",
   "pygments_lexer": "ipython3",
   "version": "3.7.4"
  }
 },
 "nbformat": 4,
 "nbformat_minor": 2
}
